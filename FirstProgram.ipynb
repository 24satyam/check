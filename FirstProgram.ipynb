{
  "nbformat": 4,
  "nbformat_minor": 0,
  "metadata": {
    "colab": {
      "name": "FirstProgram.ipynb",
      "provenance": [],
      "authorship_tag": "ABX9TyNrjfW1KlrV1CY+dOfgmHv1",
      "include_colab_link": true
    },
    "kernelspec": {
      "name": "python3",
      "display_name": "Python 3"
    }
  },
  "cells": [
    {
      "cell_type": "markdown",
      "metadata": {
        "id": "view-in-github",
        "colab_type": "text"
      },
      "source": [
        "<a href=\"https://colab.research.google.com/github/24satyam/check/blob/master/FirstProgram.ipynb\" target=\"_parent\"><img src=\"https://colab.research.google.com/assets/colab-badge.svg\" alt=\"Open In Colab\"/></a>"
      ]
    },
    {
      "cell_type": "code",
      "metadata": {
        "id": "gnAK0vni7DvU",
        "colab_type": "code",
        "colab": {
          "base_uri": "https://localhost:8080/",
          "height": 35
        },
        "outputId": "d38e06b5-e4e6-41cd-fbab-5b847667a6b2"
      },
      "source": [
        "#ipynb:->interactive python Notebook\n",
        "\"\"\"\n",
        "multiline comments\n",
        "\"\"\""
      ],
      "execution_count": 1,
      "outputs": [
        {
          "output_type": "execute_result",
          "data": {
            "application/vnd.google.colaboratory.intrinsic": {
              "type": "string"
            },
            "text/plain": [
              "'\\nmultiline comments\\n'"
            ]
          },
          "metadata": {
            "tags": []
          },
          "execution_count": 1
        }
      ]
    },
    {
      "cell_type": "code",
      "metadata": {
        "id": "Y_o25D037wYo",
        "colab_type": "code",
        "colab": {}
      },
      "source": [
        "#create a string\n",
        "name = \"Satyam Yadav\"\n",
        "name1 = 'tj'"
      ],
      "execution_count": 2,
      "outputs": []
    },
    {
      "cell_type": "code",
      "metadata": {
        "id": "ZvfnJtyr84VI",
        "colab_type": "code",
        "colab": {
          "base_uri": "https://localhost:8080/",
          "height": 85
        },
        "outputId": "14b0df44-708a-47f4-d226-2d373f03c9da"
      },
      "source": [
        "#print function\n",
        "print(name) #print single values\n",
        "print(name,name1,sep=\":\") #print multiple values\n",
        "print(\"Name is\",name,\" Name1 is \",name1) #print variables with text\n",
        "print(\"Name is \", name,sep=\":\") # using sepeartor"
      ],
      "execution_count": 6,
      "outputs": [
        {
          "output_type": "stream",
          "text": [
            "Satyam Yadav\n",
            "Satyam Yadav:tj\n",
            "Name is Satyam Yadav  Name1 is  tj\n",
            "Name is :Satyam Yadav\n"
          ],
          "name": "stdout"
        }
      ]
    },
    {
      "cell_type": "code",
      "metadata": {
        "id": "DK_LQY-J-dR3",
        "colab_type": "code",
        "colab": {
          "base_uri": "https://localhost:8080/",
          "height": 51
        },
        "outputId": "1bacddc4-b62b-48a1-e46d-634244d1a272"
      },
      "source": [
        "#check the datatypes in the cell using tyep() function\n",
        "type(name) #check the type of name variable\n",
        "type(name1) #check the type of name1 variable\n",
        "#print the type\n",
        "print(\"type of name is \",type(name))\n",
        "print(\"type of name1 is \",type(name1))"
      ],
      "execution_count": 9,
      "outputs": [
        {
          "output_type": "stream",
          "text": [
            "type of name is  <class 'str'>\n",
            "type of name1 is  <class 'str'>\n"
          ],
          "name": "stdout"
        }
      ]
    },
    {
      "cell_type": "code",
      "metadata": {
        "id": "Gm5iFCTc_p7P",
        "colab_type": "code",
        "colab": {
          "base_uri": "https://localhost:8080/",
          "height": 68
        },
        "outputId": "86a69fda-be06-4a86-dd2c-c2024baef5ae"
      },
      "source": [
        "#explore other datatypes like float,boolean integers\n",
        "var_float = 10.25\n",
        "print(\"type of var_float is \",type(var_float))\n",
        "\n",
        "var_int = 10\n",
        "print(\"type of var_int is \",type(var_int))\n",
        "\n",
        "var_bool = True\n",
        "print(\"type of var_bool is \",type(var_bool))\n"
      ],
      "execution_count": 10,
      "outputs": [
        {
          "output_type": "stream",
          "text": [
            "type of var_float is  <class 'float'>\n",
            "type of var_int is  <class 'int'>\n",
            "type of var_bool is  <class 'bool'>\n"
          ],
          "name": "stdout"
        }
      ]
    },
    {
      "cell_type": "code",
      "metadata": {
        "id": "y3W3w2CgA6Jc",
        "colab_type": "code",
        "colab": {
          "base_uri": "https://localhost:8080/",
          "height": 85
        },
        "outputId": "01748f1b-71ee-44f9-c80e-814581aab325"
      },
      "source": [
        "# given a problem statement store data in appropriate variables\n",
        "# name of student is satyam yadav \n",
        "# age of student is 21\n",
        "# result of student is True(pass) \n",
        "# heigth of student is 5.8\n",
        "# print the type of each variable\n",
        "\n",
        "name = \"Satyam Yadav\"\n",
        "age = 21\n",
        "result = True\n",
        "height=5.8\n",
        "print(\"the type of name is \",type(name))\n",
        "print(\"the type of age is \",type(age))\n",
        "print(\"the type of result is \",type(result))\n",
        "print(\"the type of height is \",type(height))\n",
        "\n"
      ],
      "execution_count": 15,
      "outputs": [
        {
          "output_type": "stream",
          "text": [
            "the type of name is  <class 'str'>\n",
            "the type of age is  <class 'int'>\n",
            "the type of result is  <class 'bool'>\n",
            "the type of height is  <class 'float'>\n"
          ],
          "name": "stdout"
        }
      ]
    },
    {
      "cell_type": "code",
      "metadata": {
        "id": "2a_xCrrDBTrw",
        "colab_type": "code",
        "colab": {}
      },
      "source": [
        ""
      ],
      "execution_count": null,
      "outputs": []
    }
  ]
}